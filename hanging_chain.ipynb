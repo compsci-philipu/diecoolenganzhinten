{
 "cells": [
  {
   "cell_type": "code",
   "execution_count": 1,
   "metadata": {},
   "outputs": [],
   "source": [
    "import numpy as np"
   ]
  },
  {
   "cell_type": "code",
   "execution_count": null,
   "metadata": {},
   "outputs": [],
   "source": [
    "def two_d_mmc(potential, size, x_init, y_init, beta=1.0, step=0.5):\n",
    "    from random import uniform\n",
    "    x, y, u = np.zeros(size), np.zeros(size), np.zeros(size)\n",
    "    x[0] = x_init\n",
    "    y[0] = y_init\n",
    "    u[0] = potential(x_init,y_init)\n",
    "    for i in range(1, size):\n",
    "        randy = np.random.uniform(-1,1)\n",
    "        proposed_x = x[i-1]+step*randy\n",
    "        proposed_potential = potential(proposed_x)\n",
    "        minimum = min(1,np.exp((u[i-1]-proposed_potential)*beta))\n",
    "        q = np.random.uniform()\n",
    "        if (minimum==1 or q<minimum):\n",
    "            u[i]=proposed_potential\n",
    "            x[i]=proposed_x\n",
    "        else:\n",
    "            u[i]=u[i-1]\n",
    "            x[i]=x[i-1]\n",
    "    return x, u"
   ]
  },
  {
   "cell_type": "code",
   "execution_count": null,
   "metadata": {},
   "outputs": [],
   "source": []
  },
  {
   "cell_type": "code",
   "execution_count": null,
   "metadata": {},
   "outputs": [],
   "source": []
  },
  {
   "cell_type": "code",
   "execution_count": null,
   "metadata": {},
   "outputs": [],
   "source": []
  },
  {
   "cell_type": "code",
   "execution_count": null,
   "metadata": {},
   "outputs": [],
   "source": []
  },
  {
   "cell_type": "code",
   "execution_count": null,
   "metadata": {},
   "outputs": [],
   "source": []
  },
  {
   "cell_type": "code",
   "execution_count": null,
   "metadata": {},
   "outputs": [],
   "source": []
  },
  {
   "cell_type": "code",
   "execution_count": null,
   "metadata": {},
   "outputs": [],
   "source": []
  }
 ],
 "metadata": {
  "kernelspec": {
   "display_name": "Python 2",
   "language": "python",
   "name": "python2"
  },
  "language_info": {
   "codemirror_mode": {
    "name": "ipython",
    "version": 2
   },
   "file_extension": ".py",
   "mimetype": "text/x-python",
   "name": "python",
   "nbconvert_exporter": "python",
   "pygments_lexer": "ipython2",
   "version": "2.7.14"
  }
 },
 "nbformat": 4,
 "nbformat_minor": 2
}
