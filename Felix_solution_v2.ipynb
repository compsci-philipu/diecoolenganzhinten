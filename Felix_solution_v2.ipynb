{
 "cells": [
  {
   "cell_type": "code",
   "execution_count": null,
   "metadata": {},
   "outputs": [],
   "source": [
    "%matplotlib inline\n",
    "import matplotlib.pyplot as plt\n",
    "import numpy as np"
   ]
  },
  {
   "cell_type": "code",
   "execution_count": null,
   "metadata": {},
   "outputs": [],
   "source": [
    "def generate_config(x0=0, y0=20, n=30, dx=1.):\n",
    "    x, y = np.linspace(x0, dx*n, n), np.linspace(y0, y0, n)\n",
    "    return x,y"
   ]
  },
  {
   "cell_type": "code",
   "execution_count": null,
   "metadata": {},
   "outputs": [],
   "source": [
    "def potential(x, y, g, k):\n",
    "    dx, dy=x[1:] - x[:-1], y[1:] - y[:-1]\n",
    "    harmonic_potential = k * (np.dot(dx,dx) + np.dot(dy,dy))\n",
    "    gravitational_potential = g * np.sum(y)\n",
    "    return harmonic_potential + gravitational_potential"
   ]
  },
  {
   "cell_type": "code",
   "execution_count": null,
   "metadata": {},
   "outputs": [],
   "source": [
    "def mmc(potential, size, x_init, y_init, beta=1.0, step=0.5, g=9.81, k=50.):\n",
    "    from random import uniform\n",
    "    n = len(x_init)\n",
    "    x_matrix, y_matrix, u_array = np.zeros((size, n)), np.zeros((size, n)), np.zeros(size)\n",
    "    x_matrix[0], y_matrix[0], u_array[0] = x_init, y_init, potential(x_init, y_init, g, k) \n",
    "    for i in range(1, size):\n",
    "        x_array, y_array, u=x_matrix[i-1][:], y_matrix[i-1][:], u_array[i-1]\n",
    "        for j in range(1, n-1):\n",
    "            x_ = x_array[j] + uniform(-step,step)\n",
    "            y_ = y_array[j] + uniform(-step,step)\n",
    "            x_update = np.concatenate((x_array[:j],[x_],x_array[j+1:]))\n",
    "            y_update = np.concatenate((y_array[:j],[y_],y_array[j+1:]))\n",
    "            u_ = potential(x_update, y_update, g, k)\n",
    "            if (u_ <= u or uniform(0,1) <  np.exp(-beta*(u_-u))) and y_>=0:\n",
    "                x_array, y_array, u = x_update, y_update, u_\n",
    "        x_matrix[i], y_matrix[i], u_array[i] = x_array, y_array, u\n",
    "    return x_matrix, y_matrix, u_array"
   ]
  },
  {
   "cell_type": "code",
   "execution_count": null,
   "metadata": {
    "scrolled": true
   },
   "outputs": [],
   "source": [
    "x, y = generate_config(n=50,y0=30)\n",
    "x_matrix, y_matrix, u_array = mmc(potential, 10000, x, y)"
   ]
  },
  {
   "cell_type": "code",
   "execution_count": null,
   "metadata": {},
   "outputs": [],
   "source": [
    "fig, axes = plt.subplots(1, 2, figsize=(15, 5))\n",
    "axes[0].tick_params(labelsize=12)\n",
    "axes[0].set_title('Final Configuration', fontsize = 20)\n",
    "axes[0].set_xlabel(\"x-position\", fontsize = 15)\n",
    "axes[0].set_ylabel(\"y-position\", fontsize = 15)\n",
    "axes[0].set_ylim(0,y_matrix[-1].max()+1)\n",
    "axes[0].scatter(x_matrix[-1][:], y_matrix[-1][:])\n",
    "\n",
    "axes[1].tick_params(labelsize=12)\n",
    "axes[1].set_title('Plot of $\\phi(n)$', fontsize = 20)\n",
    "axes[1].set_xlabel(\"step n\", fontsize = 15)\n",
    "axes[1].set_ylabel(\"$\\phi(n)$\", fontsize = 15)\n",
    "axes[1].plot(u_array)\n",
    "plt.show()"
   ]
  },
  {
   "cell_type": "code",
   "execution_count": null,
   "metadata": {},
   "outputs": [],
   "source": []
  }
 ],
 "metadata": {
  "kernelspec": {
   "display_name": "Python 3",
   "language": "python",
   "name": "python3"
  },
  "language_info": {
   "codemirror_mode": {
    "name": "ipython",
    "version": 3
   },
   "file_extension": ".py",
   "mimetype": "text/x-python",
   "name": "python",
   "nbconvert_exporter": "python",
   "pygments_lexer": "ipython3",
   "version": "3.7.0"
  }
 },
 "nbformat": 4,
 "nbformat_minor": 2
}
