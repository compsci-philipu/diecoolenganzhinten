{
 "cells": [
  {
   "cell_type": "code",
   "execution_count": null,
   "metadata": {},
   "outputs": [],
   "source": [
    "%matplotlib inline\n",
    "import matplotlib.pyplot as plt\n",
    "import numpy as np"
   ]
  },
  {
   "cell_type": "code",
   "execution_count": null,
   "metadata": {},
   "outputs": [],
   "source": [
    "def generate_config(x0 = 0, y0 = 20, n = 30, dx = 1.):\n",
    "    \"\"\"Returns the initial configuration of the n chained particles, which is a horizontal line.\n",
    "    The function returns an array, which has n elements, where each element is a tuple consisting\n",
    "    of the x- and y-component of the respective particle. The x-coordinates are evenly spaced and\n",
    "    the y-coordinates are set to some constant y0\n",
    "    \n",
    "    Parameters\n",
    "    ----------\n",
    "    x0 - x-coordinate of first particle. Standard value is 0.\n",
    "    y0 - y-coordinate of all particles. Standard value is 20.\n",
    "    n  - Number of particles, standard value is set to 30.\n",
    "    dx - Horizontal spacing between neighbouring particles. Standard value is 1\n",
    "    \"\"\"\n",
    "    \n",
    "    r = np.zeros((n, 2))\n",
    "    r[:, 0] = np.linspace(x0, x0 + (dx * n), n)\n",
    "    r[:, 1] = np.array([y0 for _ in range(n)])\n",
    "    return r"
   ]
  },
  {
   "cell_type": "code",
   "execution_count": null,
   "metadata": {},
   "outputs": [],
   "source": [
    "def potential_gradient(r, g = 9.81 , k = 20., b=1):\n",
    "    \n",
    "    \"\"\"Calculates the potential gradient for a given spatial configuration r of n particles in a chain.\n",
    "    Returns a vector, where the i-th entry is a tuple consisting of the x- and y-coordinate of the gradient for particle i.\n",
    "    Because the first and last particle are fixed, this function only computes the gradient for the second to the second-to-last particle,\n",
    "    while for the first and last particle the gradient is always 0.\n",
    "    \n",
    "    Parameters\n",
    "    ----------S\n",
    "    r - Array that has n-elements and each element has two scalar entries.\n",
    "    g - Gravitational constant. Default value is 9.81.\n",
    "    k - Spring constant. Default value is 20.\n",
    "    \"\"\"\n",
    "    \n",
    "    harmonic_gradient = np.zeros((len(r), 2))\n",
    "    gravitational_gradient = np.zeros((len(r), 2))\n",
    "    # Calculate x-component of the gradient of the harmonic potential (dphi/dx_i = k * ( x_i - x_(i-1)) + k * (x_(i+1) - x_i) )\n",
    "    harmonic_gradient[:, 0][1 : -1] = k * (r[:, 0][1 : -1] - r[:, 0][: -2]) - k * (r[:, 0][2 :] - r[:, 0][1 : -1])\n",
    "    # Calculate y-component of the gradient of the harmonic potential (dphi/dy_i = k * ( y_i - y_(i-1)) + k * (y_(i+1) - y_i) )\n",
    "    harmonic_gradient[:, 1][1 : -1] = k * (r[:, 1][1 : -1] - r[:, 1][: -2]) - k * (r[:, 1][2 :] - r[:, 1][1 : -1])\n",
    "    # Calculate the gradient of the gravitational potential, which only acts in the y-direction (dphi/dy_i = g)\n",
    "    gravitational_gradient[:, 1][1 : -1] = g\n",
    "    gravitational_gradient[:, 1][r[:,1]<b] = np.log(r[:, 1][r[:, 1]<b])\n",
    "    gravitational_gradient[:, 1][r[:, 1]<0] = -np.inf\n",
    "    return harmonic_gradient + gravitational_gradient\n",
    "        "
   ]
  },
  {
   "cell_type": "code",
   "execution_count": null,
   "metadata": {},
   "outputs": [],
   "source": [
    "def gd(potential_gradient, size, r_init, alpha=0.02, g=9.81, k=20.):\n",
    "    '''Implementation of the gradient-descent method for a given gradient function and a given initial configuration.\n",
    "    Makes size amount of steps and returns two matrices, one consisting of all configurations and the other\n",
    "    consisting of all potential gradients calculated during its execution. The i-th row of each matrix is the\n",
    "    configuration of the system/potential gradient calculated in the i-th step of the function respectively.\n",
    "    \n",
    "    Parameters\n",
    "    ----------\n",
    "    potential_gradient - Function that calculates the potential gradient, \n",
    "                         for a given configuration r. \n",
    "                         r is an array, where each element consists \n",
    "                         of two scalar components.\n",
    "    \n",
    "    size - Amount of steps that are performed by the function\n",
    "           and also the number of rows inside the resulting matrices.\n",
    "    \n",
    "    r_init - Array describing the initial configuration of the system. \n",
    "             Each element is a tuple consisting of x- and y-coordinate of the \n",
    "             respective particle.\n",
    "    \n",
    "    alpha - Scalar factor of the gradient descent method. \n",
    "            Standard value is 0.02.\n",
    "    \n",
    "    g - Gravitational constant, default value is 9.81\n",
    "    \n",
    "    k - Spring constant, default value is 20.'''\n",
    "    \n",
    "    n = len(r_init)\n",
    "    r_matrix, gradient_matrix = np.zeros((size, n ,2)), np.zeros((size, n, 2))\n",
    "    r_matrix[0] = r_init\n",
    "    gradient_matrix[0] = potential_gradient(r_init, g, k)\n",
    "    for i in range(1, size):\n",
    "        r = r_matrix[i-1]\n",
    "        current_gradient = gradient_matrix[i-1]\n",
    "        r_new = r - alpha * current_gradient\n",
    "        r_matrix[i] = r_new\n",
    "        gradient_matrix[i] = potential_gradient(r_new, g, k)\n",
    "    return r_matrix,gradient_matrix"
   ]
  },
  {
   "cell_type": "code",
   "execution_count": null,
   "metadata": {},
   "outputs": [],
   "source": [
    "r_init = generate_config(n=100)\n",
    "r_matrix,gradient_matrix = gd(potential_gradient, 10000, r_init, alpha=0.001, k=100)"
   ]
  },
  {
   "cell_type": "code",
   "execution_count": null,
   "metadata": {},
   "outputs": [],
   "source": [
    "fig, axes = plt.subplots(1, 2, figsize=(20,8))\n",
    "axes[0].scatter(r_matrix[-1,:,0],r_matrix[-1,:,1])\n",
    "axes[0].set_title(r'Final config', fontsize = 20)\n",
    "axes[0].set_xlabel(\"x\", fontsize=15)\n",
    "axes[0].set_ylabel(\"y\", fontsize=15)\n",
    "axes[1].set_title(r'Plot of the potential gradient', fontsize = 20)\n",
    "axes[1].plot(np.linalg.norm(gradient_matrix, axis=(2,1)))\n",
    "#axes[1].plot(1/30*np.sum(gradient_matrix,axis=1)[:,0])\n",
    "#axes[1].plot(1/30*np.sum(gradient_matrix,axis=1)[:,1])\n",
    "axes[1].set_xlabel(\"number of steps n\", fontsize = 15)\n",
    "axes[1].set_ylabel(r'$\\mid \\nabla \\phi(n) \\mid$', fontsize = 15)\n",
    "axes[1].set_yscale('linear')\n",
    "plt.show()"
   ]
  }
 ],
 "metadata": {
  "kernelspec": {
   "display_name": "Python 3",
   "language": "python",
   "name": "python3"
  },
  "language_info": {
   "codemirror_mode": {
    "name": "ipython",
    "version": 3
   },
   "file_extension": ".py",
   "mimetype": "text/x-python",
   "name": "python",
   "nbconvert_exporter": "python",
   "pygments_lexer": "ipython3",
   "version": "3.7.0"
  }
 },
 "nbformat": 4,
 "nbformat_minor": 2
}
