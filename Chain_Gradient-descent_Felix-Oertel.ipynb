{
 "cells": [
  {
   "cell_type": "code",
   "execution_count": 1,
   "metadata": {},
   "outputs": [],
   "source": [
    "%matplotlib inline\n",
    "import matplotlib.pyplot as plt\n",
    "import numpy as np"
   ]
  },
  {
   "cell_type": "code",
   "execution_count": 2,
   "metadata": {},
   "outputs": [],
   "source": [
    "def generate_config(x0=0, y0=20, n=30, dx=1.):\n",
    "    x, y = np.linspace(x0, x0 + dx*n, n), np.linspace(y0, y0, n)\n",
    "    return x,y"
   ]
  },
  {
   "cell_type": "code",
   "execution_count": 3,
   "metadata": {},
   "outputs": [],
   "source": [
    "def potential_gradient(x, y, g, k):\n",
    "    harmonic_gradient_x=np.zeros(len(x))\n",
    "    harmonic_gradient_y=np.zeros(len(y))\n",
    "    gravitational_gradient_y=np.zeros(len(x))\n",
    "    for i in range(1,len(x)-1):\n",
    "        harmonic_gradient_x[i]=k*(x[i]-x[i-1]) - k*(x[i+1]-x[i])\n",
    "        harmonic_gradient_y[i]=k*(y[i]-y[i-1]) - k*(y[i+1]-y[i])\n",
    "        gravitational_gradient_y[i]=g\n",
    "    return harmonic_gradient_x,harmonic_gradient_y+gravitational_gradient_y\n",
    "        "
   ]
  },
  {
   "cell_type": "code",
   "execution_count": 4,
   "metadata": {},
   "outputs": [],
   "source": [
    "def gd(potential_gradient, size, x_init, y_init, alpha=0.02, g=9.81, k=20., ):\n",
    "    n = len(x_init)\n",
    "    x_matrix, y_matrix = np.zeros(shape=(size, n)),np.zeros(shape=(size, n))\n",
    "    x_matrix[0], y_matrix[0] = x_init, y_init\n",
    "    for i in range(1,size):\n",
    "        x,y=x_matrix[i-1],y_matrix[i-1]\n",
    "        current_gradient = potential_gradient(x, y, g, k)\n",
    "        x_new, y_new = x - alpha*current_gradient[0], y - alpha*current_gradient[1]\n",
    "        x_matrix[i], y_matrix[i] = x_new, y_new\n",
    "    return x_matrix, y_matrix                    "
   ]
  },
  {
   "cell_type": "code",
   "execution_count": 5,
   "metadata": {},
   "outputs": [],
   "source": [
    "x_init, y_init = generate_config()\n",
    "x_matrix, y_matrix = gd(potential_gradient, 10000, x_init, y_init)"
   ]
  },
  {
   "cell_type": "code",
   "execution_count": 6,
   "metadata": {},
   "outputs": [
    {
     "data": {
      "image/png": "[encoded data removed]",
      "text/plain": [
       "<Figure size 432x288 with 1 Axes>"
      ]
     },
     "metadata": {
      "needs_background": "light"
     },
     "output_type": "display_data"
    }
   ],
   "source": [
    "plt.title(\"Final Configuration\")\n",
    "plt.scatter(x_matrix[-1],y_matrix[-1])\n",
    "plt.xlabel(\"x-coord\")\n",
    "plt.ylabel(\"y-coord\")\n",
    "plt.show()"
   ]
  },
  {
   "cell_type": "code",
   "execution_count": null,
   "metadata": {},
   "outputs": [],
   "source": []
  }
 ],
 "metadata": {
  "kernelspec": {
   "display_name": "Python 3",
   "language": "python",
   "name": "python3"
  },
  "language_info": {
   "codemirror_mode": {
    "name": "ipython",
    "version": 3
   },
   "file_extension": ".py",
   "mimetype": "text/x-python",
   "name": "python",
   "nbconvert_exporter": "python",
   "pygments_lexer": "ipython3",
   "version": "3.7.0"
  }
 },
 "nbformat": 4,
 "nbformat_minor": 2
}
