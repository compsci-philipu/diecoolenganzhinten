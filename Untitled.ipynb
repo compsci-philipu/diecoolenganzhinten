{
 "cells": [
  {
   "cell_type": "code",
   "execution_count": null,
   "metadata": {},
   "outputs": [],
   "source": []
  },
  {
   "cell_type": "code",
   "execution_count": null,
   "metadata": {},
   "outputs": [],
   "source": []
  },
  {
   "cell_type": "code",
   "execution_count": null,
   "metadata": {},
   "outputs": [],
   "source": []
  },
  {
   "cell_type": "code",
   "execution_count": null,
   "metadata": {},
   "outputs": [],
   "source": []
  },
  {
   "cell_type": "code",
   "execution_count": null,
   "metadata": {},
   "outputs": [],
   "source": []
  },
  {
   "cell_type": "code",
   "execution_count": null,
   "metadata": {},
   "outputs": [],
   "source": []
  },
  {
   "cell_type": "code",
   "execution_count": null,
   "metadata": {},
   "outputs": [],
   "source": []
  },
  {
   "cell_type": "code",
   "execution_count": null,
   "metadata": {},
   "outputs": [],
   "source": []
  },
  {
   "cell_type": "code",
   "execution_count": null,
   "metadata": {},
   "outputs": [],
   "source": []
  },
  {
   "cell_type": "code",
   "execution_count": null,
   "metadata": {},
   "outputs": [],
   "source": []
  },
  {
   "cell_type": "code",
   "execution_count": 1,
   "metadata": {},
   "outputs": [],
   "source": [
    "def mmc(potential, N, size, x_init, y_init, beta=1.0, step=0.5):\n",
    "    from random import uniform\n",
    "    x, y, u = np.zeros(size), np.zeros(size), np.zeros(size)\n",
    "    x[0] = x_init\n",
    "    y[0] = y_init\n",
    "    u[0] = potential(x_init,y_init)\n",
    "    for i in range(1, size):\n",
    "        for j in range(1,N-1):\n",
    "            randy_x = np.random.uniform(-1,1)\n",
    "            randy_y = np.random.uniform(-1,1)\n",
    "            #copy old x and y values and then change one single element\n",
    "            proposed_x = x[i-1]\n",
    "            proposed_y = y[i-1]\n",
    "            proposed_x[N] = x[i-1][N]+step*randy_x\n",
    "            proposed_y[N] = y[i-1][N]+step*randy_y\n",
    "            proposed_potential = potential(proposed_x,proposed_y)\n",
    "            minimum = min(1,np.exp((u[i-1]-proposed_potential)*beta))\n",
    "            q = np.random.uniform()\n",
    "            if (minimum==1 or q<minimum):\n",
    "                u[i]=proposed_potential\n",
    "                #we change only one particle, so we copy the old list and change only single values afterwards\n",
    "                x[i]=x[i-1]\n",
    "                y[i]=y[i-1]\n",
    "                #changing single values in the following\n",
    "                x[i][N]=proposed_x\n",
    "                y[i][N]=proposed_y\n",
    "            else:\n",
    "                u[i]=u[i-1]\n",
    "                x[i]=x[i-1]\n",
    "                y[i]=y[i-1]\n",
    "    return x,y,u"
   ]
  },
  {
   "cell_type": "code",
   "execution_count": null,
   "metadata": {},
   "outputs": [],
   "source": []
  }
 ],
 "metadata": {
  "kernelspec": {
   "display_name": "Python 2",
   "language": "python",
   "name": "python2"
  },
  "language_info": {
   "codemirror_mode": {
    "name": "ipython",
    "version": 2
   },
   "file_extension": ".py",
   "mimetype": "text/x-python",
   "name": "python",
   "nbconvert_exporter": "python",
   "pygments_lexer": "ipython2",
   "version": "2.7.14"
  }
 },
 "nbformat": 4,
 "nbformat_minor": 2
}
