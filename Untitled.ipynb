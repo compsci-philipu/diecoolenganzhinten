{
 "cells": [
  {
   "cell_type": "code",
   "execution_count": 4,
   "metadata": {},
   "outputs": [],
   "source": [
    "%matplotlib inline\n",
    "import matplotlib.pyplot as plt\n",
    "import numpy as np"
   ]
  },
  {
   "cell_type": "code",
   "execution_count": 5,
   "metadata": {},
   "outputs": [],
   "source": [
    "def generate_config(x0=0, y0=20, N=30):\n",
    "    x = np.asarray([x0 + i for i in range(N)])\n",
    "    y = np.asarray([y0 for _ in range(N)])\n",
    "    return x, y\n",
    "    "
   ]
  },
  {
   "cell_type": "code",
   "execution_count": 12,
   "metadata": {},
   "outputs": [],
   "source": [
    "def mmc(potential, size, x_init, y_init, beta=1.0, step=0.5):\n",
    "    from random import uniform\n",
    "    x, y, u = np.zeros(size), np.zeros(size), np.zeros(size)\n",
    "    x[0] = x_init\n",
    "    y[0] = y_init\n",
    "    u[0] = potential(x_init, y_init)\n",
    "    for i in range(1, size):\n",
    "        for j in range(1,len(x_init)-1):\n",
    "            x_ = x[i-1][j] + uniform(-step,step)\n",
    "            y_ = y[i-1][j] + uniform(-step,step)\n",
    "            u_ = potential(x[i-1][:j]+j+x[i-1][j:], y[i-1][:j]+j+y[i-1][j:])\n",
    "            r = uniform(0,1)\n",
    "            if u_ <= u[i-1] or r <  np.exp(-beta*(u_-u[i])):\n",
    "                u[i], x[i], y[i] = u[i-1], x[i-1][:j]+j+x[i-1][j:], y[i-1][:j]+j+y[i-1][j:]\n",
    "            else:\n",
    "                u[i], x[i], y[i] = u[i-1], x[i-1], y[i-1]   \n",
    "    return x, y, u"
   ]
  },
  {
   "cell_type": "code",
   "execution_count": 9,
   "metadata": {},
   "outputs": [],
   "source": [
    "def potential(x, y, g=9.81, k=50):\n",
    "    harmonic_potential = sum([k*((x[i-1]-x[i])**2+(y[i-1]-y[i])**2) for i in range(len(x))])\n",
    "    gravitational_potential = sum([-g*y[i] for i in range(len(y))])\n",
    "    return harmonic_potential + gravitational_potential"
   ]
  },
  {
   "cell_type": "code",
   "execution_count": 19,
   "metadata": {},
   "outputs": [
    {
     "name": "stdout",
     "output_type": "stream",
     "text": [
      "[ 0  1  2  3  4  5  6  7  8  9 10 11 12 13 14 15 16 17 18 19 20 21 22 23\n",
      " 24 25 26 27 28 29]\n"
     ]
    }
   ],
   "source": [
    "x,y=generate_config()\n",
    "print(x)"
   ]
  },
  {
   "cell_type": "code",
   "execution_count": null,
   "metadata": {},
   "outputs": [],
   "source": []
  },
  {
   "cell_type": "code",
   "execution_count": 20,
   "metadata": {},
   "outputs": [
    {
     "data": {
      "text/plain": [
       "array([0, 1])"
      ]
     },
     "execution_count": 20,
     "metadata": {},
     "output_type": "execute_result"
    }
   ],
   "source": [
    "x[:2]"
   ]
  },
  {
   "cell_type": "code",
   "execution_count": null,
   "metadata": {},
   "outputs": [],
   "source": []
  },
  {
   "cell_type": "code",
   "execution_count": null,
   "metadata": {},
   "outputs": [],
   "source": []
  },
  {
   "cell_type": "code",
   "execution_count": null,
   "metadata": {},
   "outputs": [],
   "source": []
  },
  {
   "cell_type": "code",
   "execution_count": null,
   "metadata": {},
   "outputs": [],
   "source": []
  },
  {
   "cell_type": "code",
   "execution_count": null,
   "metadata": {},
   "outputs": [],
   "source": []
  },
  {
   "cell_type": "code",
   "execution_count": null,
   "metadata": {},
   "outputs": [],
   "source": []
  },
  {
   "cell_type": "code",
   "execution_count": null,
   "metadata": {},
   "outputs": [],
   "source": []
  }
 ],
 "metadata": {
  "kernelspec": {
   "display_name": "Python 3",
   "language": "python",
   "name": "python3"
  },
  "language_info": {
   "codemirror_mode": {
    "name": "ipython",
    "version": 3
   },
   "file_extension": ".py",
   "mimetype": "text/x-python",
   "name": "python",
   "nbconvert_exporter": "python",
   "pygments_lexer": "ipython3",
   "version": "3.7.0"
  }
 },
 "nbformat": 4,
 "nbformat_minor": 2
}
