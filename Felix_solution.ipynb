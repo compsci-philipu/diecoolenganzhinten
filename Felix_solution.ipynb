{
 "cells": [
  {
   "cell_type": "code",
   "execution_count": null,
   "metadata": {},
   "outputs": [],
   "source": [
    "%matplotlib inline\n",
    "import matplotlib.pyplot as plt\n",
    "import numpy as np"
   ]
  },
  {
   "cell_type": "code",
   "execution_count": null,
   "metadata": {},
   "outputs": [],
   "source": [
    "def generate_config(x0=0, y0=20, n=30, dx=1.):\n",
    "    x = [x0 + i*dx for i in range(n)]\n",
    "    y = [y0 for _ in range(n)]\n",
    "    return x,y"
   ]
  },
  {
   "cell_type": "code",
   "execution_count": null,
   "metadata": {},
   "outputs": [],
   "source": [
    "def potential(x, y, g, k):\n",
    "    dx=x[1:]-x[:-1]\n",
    "    dy=y[1:]-y[:-1]\n",
    "    harmonic_potential = k*(np.dot(dx,dx)+np.dot(dy,dy))\n",
    "    gravitational_potential = g*np.sum(y)\n",
    "    return harmonic_potential + gravitational_potential"
   ]
  },
  {
   "cell_type": "code",
   "execution_count": null,
   "metadata": {},
   "outputs": [],
   "source": [
    "def mmc(potential, size, x_init, y_init, beta=1.0, step=0.5, g=9.81, k=50.):\n",
    "    from random import uniform\n",
    "    n = len(x_init)\n",
    "    x, y, u = [],[],[]\n",
    "    x.append(x_init)\n",
    "    y.append(y_init)\n",
    "    u.append(potential(np.array(x_init), np.array(y_init),g,k)) \n",
    "    for i in range(1, size):\n",
    "        x_t, y_t, u_t=x[i-1][:], y[i-1][:], u[i-1]\n",
    "        for j in range(1,n-1):\n",
    "            x_ = x_t[j] + uniform(-step,step)\n",
    "            y_ = y_t[j] + uniform(-step,step)\n",
    "            u_ = potential(np.array(x_t[:j]+[x_]+x_t[j+1:]), np.array(y_t[:j]+[y_]+y_t[j+1:]), g, k)\n",
    "            r = uniform(0,1)\n",
    "            if (u_ <= u_t or r <  np.exp(-beta*(u_-u_t))) and y_>=0:\n",
    "                x_t=x_t[:j]+[x_]+x_t[j+1:]\n",
    "                y_t=y_t[:j]+[y_]+y_t[j+1:]\n",
    "                u_t=potential(np.array(x_t),np.array(y_t), g, k)\n",
    "        u.append(u_t)\n",
    "        x.append(x_t)\n",
    "        y.append(y_t)\n",
    "    return x, y, u"
   ]
  },
  {
   "cell_type": "code",
   "execution_count": null,
   "metadata": {
    "scrolled": true
   },
   "outputs": [],
   "source": [
    "x,y=generate_config(n=30)\n",
    "x_matrix,y_matrix,u_array=mmc(potential, 5000, x, y)"
   ]
  },
  {
   "cell_type": "code",
   "execution_count": null,
   "metadata": {},
   "outputs": [],
   "source": [
    "fig, axes = plt.subplots(1, 2, figsize=(15, 5))\n",
    "axes[0].tick_params(labelsize=12)\n",
    "axes[0].set_title('Final Configuration', fontsize = 20)\n",
    "axes[0].set_xlabel(\"x-position\", fontsize = 15)\n",
    "axes[0].set_ylabel(\"y-position\", fontsize = 15)\n",
    "axes[0].scatter(x_matrix[-1][:], y_matrix[-1][:])\n",
    "\n",
    "axes[1].tick_params(labelsize=12)\n",
    "axes[1].set_title('Plot of $\\phi(n)$', fontsize = 20)\n",
    "axes[1].set_xlabel(\"step n\", fontsize = 15)\n",
    "axes[1].set_ylabel(\"$\\phi(n)$\", fontsize = 15)\n",
    "axes[1].plot(u_array)\n",
    "plt.show()"
   ]
  },
  {
   "cell_type": "code",
   "execution_count": null,
   "metadata": {},
   "outputs": [],
   "source": []
  }
 ],
 "metadata": {
  "kernelspec": {
   "display_name": "Python 3",
   "language": "python",
   "name": "python3"
  },
  "language_info": {
   "codemirror_mode": {
    "name": "ipython",
    "version": 3
   },
   "file_extension": ".py",
   "mimetype": "text/x-python",
   "name": "python",
   "nbconvert_exporter": "python",
   "pygments_lexer": "ipython3",
   "version": "3.7.0"
  }
 },
 "nbformat": 4,
 "nbformat_minor": 2
}
